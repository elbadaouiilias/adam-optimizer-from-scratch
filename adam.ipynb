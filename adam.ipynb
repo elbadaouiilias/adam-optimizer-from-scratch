{
 "cells": [
  {
   "cell_type": "markdown",
   "metadata": {},
   "source": [
    "# 🎓 Comparaison des optimiseurs SGD et Adam\n",
    "\n",
    "Ce notebook compare deux algorithmes d'optimisation populaires en Deep Learning :\n",
    "- **SGD** (Stochastic Gradient Descent) avec momentum\n",
    "- **Adam** (Adaptive Moment Estimation)\n",
    "\n",
    "Nous allons les implémenter de A à Z pour bien comprendre leur fonctionnement !"
   ]
  },
  {
   "cell_type": "markdown",
   "metadata": {},
   "source": [
    "## 📦 Imports nécessaires\n",
    "\n",
    "On importe PyTorch pour créer notre réseau de neurones et matplotlib pour visualiser les résultats."
   ]
  },
  {
   "cell_type": "code",
   "execution_count": null,
   "metadata": {},
   "outputs": [],
   "source": [
    "import torch\n",
    "import torch.nn as nn\n",
    "import matplotlib.pyplot as plt"
   ]
  },
  {
   "cell_type": "markdown",
   "metadata": {},
   "source": [
    "## 🔧 Implémentation de SGD personnalisé\n",
    "\n",
    "**SGD (Stochastic Gradient Descent)** est l'optimiseur de base :\n",
    "- Il met à jour les poids en suivant la direction opposée du gradient\n",
    "- Le **momentum** permet d'accélérer la convergence en gardant une \"mémoire\" des directions précédentes\n",
    "\n",
    "**Formule** : `v = momentum × v + gradient` puis `poids = poids - learning_rate × v`"
   ]
  },
  {
   "cell_type": "code",
   "execution_count": null,
   "metadata": {},
   "outputs": [],
   "source": [
    "class SGDPerso:\n",
    "    def __init__(self, params, lr=0.01, momentum=0.0):\n",
    "        \"\"\"Initialise l'optimiseur SGD.\n",
    "        \n",
    "        Args:\n",
    "            params: Les paramètres du modèle à optimiser\n",
    "            lr: Taux d'apprentissage (learning rate)\n",
    "            momentum: Coefficient de momentum (0 = pas de momentum)\n",
    "        \"\"\"\n",
    "        self.params = list(params)\n",
    "        self.lr = lr\n",
    "        self.momentum = momentum\n",
    "        # v stocke la \"vitesse\" pour chaque paramètre (utilisé pour le momentum)\n",
    "        self.v = [torch.zeros_like(p.data) for p in self.params]\n",
    "\n",
    "    def zero_grad(self):\n",
    "        \"\"\"Remet à zéro tous les gradients avant le backward.\"\"\"\n",
    "        for p in self.params:\n",
    "            if p.grad is not None:\n",
    "                p.grad.zero_()\n",
    "\n",
    "    def step(self):\n",
    "        \"\"\"Effectue une étape d'optimisation en mettant à jour les poids.\"\"\"\n",
    "        for i, p in enumerate(self.params):\n",
    "            if p.grad is None:\n",
    "                continue\n",
    "            g = p.grad.data  # Récupère le gradient\n",
    "            # Mise à jour de la vitesse avec momentum\n",
    "            self.v[i] = self.momentum * self.v[i] + g\n",
    "            # Mise à jour des poids\n",
    "            p.data -= self.lr * self.v[i]"
   ]
  },
  {
   "cell_type": "markdown",
   "metadata": {},
   "source": [
    "## 🚀 Implémentation d'Adam personnalisé\n",
    "\n",
    "**Adam** est un optimiseur plus sophistiqué qui :\n",
    "- Adapte le learning rate pour chaque paramètre individuellement\n",
    "- Utilise deux moments : **m** (moyenne des gradients) et **v** (variance des gradients)\n",
    "- Corrige le biais d'initialisation avec des facteurs `m_hat` et `v_hat`\n",
    "\n",
    "**Avantages** : Converge souvent plus rapidement et de façon plus stable que SGD."
   ]
  },
  {
   "cell_type": "code",
   "execution_count": null,
   "metadata": {},
   "outputs": [],
   "source": [
    "class AdamPerso:\n",
    "    def __init__(self, params, lr=1e-3, beta1=0.9, beta2=0.999, eps=1e-8):\n",
    "        \"\"\"Initialise l'optimiseur Adam.\n",
    "        \n",
    "        Args:\n",
    "            params: Les paramètres du modèle\n",
    "            lr: Taux d'apprentissage\n",
    "            beta1: Coefficient pour le moment d'ordre 1 (moyenne des gradients)\n",
    "            beta2: Coefficient pour le moment d'ordre 2 (variance des gradients)\n",
    "            eps: Petit terme pour éviter la division par zéro\n",
    "        \"\"\"\n",
    "        self.params = list(params)\n",
    "        self.lr = lr\n",
    "        self.beta1, self.beta2 = beta1, beta2\n",
    "        self.eps = eps\n",
    "        self.t = 0  # Compteur d'itérations\n",
    "        # m: moyenne des gradients, v: variance des gradients\n",
    "        self.m = [torch.zeros_like(p.data) for p in self.params]\n",
    "        self.v = [torch.zeros_like(p.data) for p in self.params]\n",
    "\n",
    "    def zero_grad(self):\n",
    "        \"\"\"Remet à zéro tous les gradients.\"\"\"\n",
    "        for p in self.params:\n",
    "            if p.grad is not None:\n",
    "                p.grad.zero_()\n",
    "\n",
    "    def step(self):\n",
    "        \"\"\"Effectue une étape d'optimisation Adam.\"\"\"\n",
    "        self.t += 1  # Incrémente le compteur\n",
    "        for i, p in enumerate(self.params):\n",
    "            if p.grad is None:\n",
    "                continue\n",
    "            g = p.grad.data\n",
    "            # Mise à jour du moment d'ordre 1 (moyenne mobile exponentielle du gradient)\n",
    "            self.m[i] = self.beta1 * self.m[i] + (1 - self.beta1) * g\n",
    "            # Mise à jour du moment d'ordre 2 (variance)\n",
    "            self.v[i] = self.beta2 * self.v[i] + (1 - self.beta2) * (g * g)\n",
    "            # Correction du biais (important surtout au début de l'entraînement)\n",
    "            m_hat = self.m[i] / (1 - self.beta1 ** self.t)\n",
    "            v_hat = self.v[i] / (1 - self.beta2 ** self.t)\n",
    "            # Mise à jour des poids avec un learning rate adaptatif\n",
    "            p.data -= self.lr * m_hat / (torch.sqrt(v_hat) + self.eps)"
   ]
  },
  {
   "cell_type": "markdown",
   "metadata": {},
   "source": [
    "## 🧠 Définition du réseau de neurones\n",
    "\n",
    "On crée un **MLP** (Multi-Layer Perceptron) simple avec :\n",
    "- Une couche d'entrée\n",
    "- Une couche cachée avec activation ReLU\n",
    "- Une couche de sortie\n",
    "\n",
    "C'est un réseau basique mais suffisant pour comparer nos optimiseurs."
   ]
  },
  {
   "cell_type": "code",
   "execution_count": null,
   "metadata": {},
   "outputs": [],
   "source": [
    "class MLP(nn.Module):\n",
    "    def __init__(self, d_in, d_hid, d_out):\n",
    "        \"\"\"Crée un réseau à 2 couches.\n",
    "        \n",
    "        Args:\n",
    "            d_in: Dimension d'entrée\n",
    "            d_hid: Nombre de neurones dans la couche cachée\n",
    "            d_out: Dimension de sortie\n",
    "        \"\"\"\n",
    "        super().__init__()\n",
    "        self.net = nn.Sequential(\n",
    "            nn.Linear(d_in, d_hid),  # Couche linéaire entrée -> cachée\n",
    "            nn.ReLU(),               # Fonction d'activation non-linéaire\n",
    "            nn.Linear(d_hid, d_out)  # Couche linéaire cachée -> sortie\n",
    "        )\n",
    "\n",
    "    def forward(self, x):\n",
    "        \"\"\"Passe avant dans le réseau.\"\"\"\n",
    "        return self.net(x)"
   ]
  },
  {
   "cell_type": "markdown",
   "metadata": {},
   "source": [
    "## 🏋️ Fonction d'entraînement\n",
    "\n",
    "Cette fonction entraîne notre modèle sur plusieurs époques :\n",
    "1. **Forward pass** : Calcul de la prédiction\n",
    "2. **Calcul de la loss** : Erreur entre prédiction et vérité\n",
    "3. **Backward pass** : Calcul des gradients\n",
    "4. **Optimisation** : Mise à jour des poids\n",
    "\n",
    "On utilise la **MSE** (Mean Squared Error) comme fonction de perte."
   ]
  },
  {
   "cell_type": "code",
   "execution_count": null,
   "metadata": {},
   "outputs": [],
   "source": [
    "def entrainer(model, optim, X, y, epochs=150):\n",
    "    \"\"\"Entraîne le modèle et retourne l'historique des pertes.\n",
    "    \n",
    "    Args:\n",
    "        model: Le réseau de neurones\n",
    "        optim: L'optimiseur (SGD ou Adam)\n",
    "        X: Données d'entrée\n",
    "        y: Valeurs cibles\n",
    "        epochs: Nombre d'époques d'entraînement\n",
    "    \n",
    "    Returns:\n",
    "        Liste des pertes à chaque époque\n",
    "    \"\"\"\n",
    "    loss_fn = nn.MSELoss()  # Fonction de perte MSE\n",
    "    losses = []\n",
    "    \n",
    "    for _ in range(epochs):\n",
    "        pred = model(X)           # 1. Prédiction\n",
    "        loss = loss_fn(pred, y)   # 2. Calcul de l'erreur\n",
    "        optim.zero_grad()         # 3. Réinitialise les gradients\n",
    "        loss.backward()           # 4. Calcule les gradients\n",
    "        optim.step()              # 5. Met à jour les poids\n",
    "        losses.append(loss.item())  # Sauvegarde la perte\n",
    "    \n",
    "    return losses"
   ]
  },
  {
   "cell_type": "markdown",
   "metadata": {},
   "source": [
    "## 🎲 Génération des données synthétiques\n",
    "\n",
    "On crée un problème de régression linéaire simple :\n",
    "- `X` : 800 exemples avec 10 features aléatoires\n",
    "- `y = X × W_true + bruit` : Les vraies valeurs avec un peu de bruit gaussien\n",
    "\n",
    "Le but du réseau sera d'apprendre à prédire `y` à partir de `X`."
   ]
  },
  {
   "cell_type": "code",
   "execution_count": null,
   "metadata": {},
   "outputs": [],
   "source": [
    "# Fixe le seed pour la reproductibilité\n",
    "torch.manual_seed(42)\n",
    "\n",
    "# Paramètres du dataset\n",
    "N, D_in, D_out = 800, 10, 1\n",
    "\n",
    "# Génération des données\n",
    "X = torch.randn(N, D_in)              # Features aléatoires\n",
    "W_true = torch.randn(D_in, D_out)     # Poids \"vrais\" à découvrir\n",
    "y = X @ W_true + 0.1 * torch.randn(N, D_out)  # Cibles avec bruit\n",
    "\n",
    "print(f\"📊 Dataset créé : {N} exemples, {D_in} features\")\n",
    "print(f\"   Shape de X : {X.shape}\")\n",
    "print(f\"   Shape de y : {y.shape}\")"
   ]
  },
  {
   "cell_type": "markdown",
   "metadata": {},
   "source": [
    "## 🏃 Entraînement avec SGD\n",
    "\n",
    "On entraîne un premier modèle avec **SGD + momentum** :\n",
    "- Learning rate : 0.01\n",
    "- Momentum : 0.9 (pour accélérer la convergence)\n",
    "- 200 époques"
   ]
  },
  {
   "cell_type": "code",
   "execution_count": null,
   "metadata": {},
   "outputs": [],
   "source": [
    "hidden = 32   # Nombre de neurones dans la couche cachée\n",
    "epochs = 200  # Nombre d'époques\n",
    "\n",
    "# Création du modèle et de l'optimiseur SGD\n",
    "model_sgd = MLP(D_in, hidden, D_out)\n",
    "opt_sgd = SGDPerso(model_sgd.parameters(), lr=0.01, momentum=0.9)\n",
    "\n",
    "# Entraînement\n",
    "print(\"🔄 Entraînement avec SGD...\")\n",
    "loss_sgd = entrainer(model_sgd, opt_sgd, X, y, epochs)\n",
    "print(f\"✅ Terminé ! Loss finale : {loss_sgd[-1]:.5f}\")"
   ]
  },
  {
   "cell_type": "markdown",
   "metadata": {},
   "source": [
    "## 🚀 Entraînement avec Adam\n",
    "\n",
    "On entraîne un second modèle identique mais avec **Adam** :\n",
    "- Learning rate : 0.01 (même que SGD pour comparer)\n",
    "- Paramètres beta par défaut (0.9 et 0.999)\n",
    "- 200 époques"
   ]
  },
  {
   "cell_type": "code",
   "execution_count": null,
   "metadata": {},
   "outputs": [],
   "source": [
    "# Création d'un nouveau modèle identique et de l'optimiseur Adam\n",
    "model_adam = MLP(D_in, hidden, D_out)\n",
    "opt_adam = AdamPerso(model_adam.parameters(), lr=0.01)\n",
    "\n",
    "# Entraînement\n",
    "print(\"🔄 Entraînement avec Adam...\")\n",
    "loss_adam = entrainer(model_adam, opt_adam, X, y, epochs)\n",
    "print(f\"✅ Terminé ! Loss finale : {loss_adam[-1]:.5f}\")"
   ]
  },
  {
   "cell_type": "markdown",
   "metadata": {},
   "source": [
    "## 📊 Visualisation des résultats\n",
    "\n",
    "On compare graphiquement les deux optimiseurs :\n",
    "- **Graphique 1** (échelle linéaire) : Vue générale de l'évolution de la loss\n",
    "- **Graphique 2** (échelle log) : Permet de mieux voir les différences en fin de convergence\n",
    "\n",
    "**À observer** : la vitesse de convergence et la stabilité de chaque méthode."
   ]
  },
  {
   "cell_type": "code",
   "execution_count": null,
   "metadata": {},
   "outputs": [],
   "source": [
    "plt.figure(figsize=(10, 4))\n",
    "\n",
    "# Graphique 1 : Échelle linéaire\n",
    "plt.subplot(1, 2, 1)\n",
    "plt.plot(loss_sgd, label=\"SGD\", linewidth=2)\n",
    "plt.plot(loss_adam, label=\"Adam\", linewidth=2)\n",
    "plt.title(\"Évolution de la loss\", fontsize=14, fontweight='bold')\n",
    "plt.xlabel(\"Epoch\")\n",
    "plt.ylabel(\"Loss\")\n",
    "plt.legend()\n",
    "plt.grid(True, alpha=0.3)\n",
    "\n",
    "# Graphique 2 : Échelle logarithmique\n",
    "plt.subplot(1, 2, 2)\n",
    "plt.semilogy(loss_sgd, label=\"SGD\", linewidth=2)\n",
    "plt.semilogy(loss_adam, label=\"Adam\", linewidth=2)\n",
    "plt.title(\"Convergence (échelle log)\", fontsize=14, fontweight='bold')\n",
    "plt.xlabel(\"Epoch\")\n",
    "plt.ylabel(\"Loss (log)\")\n",
    "plt.legend()\n",
    "plt.grid(True, alpha=0.3)\n",
    "\n",
    "plt.tight_layout()\n",
    "plt.show()"
   ]
  },
  {
   "cell_type": "markdown",
   "metadata": {},
   "source": [
    "## 📈 Résultats finaux et analyse\n",
    "\n",
    "Comparons les performances finales des deux optimiseurs et analysons les résultats."
   ]
  },
  {
   "cell_type": "code",
   "execution_count": null,
   "metadata": {},
   "outputs": [],
   "source": [
    "print(\"=\"*50)\n",
    "print(\"📊 RÉSULTATS FINAUX\")\n",
    "print(\"=\"*50)\n",
    "print(f\"Loss finale SGD  : {loss_sgd[-1]:.5f}\")\n",
    "print(f\"Loss finale Adam : {loss_adam[-1]:.5f}\")\n",
    "print()"
   ]
  },
  {
   "cell_type": "markdown",
   "metadata": {},
   "source": [
    "## 🧐 Analyse et conclusions\n",
    "\n",
    "### Observations clés :\n",
    "\n",
    "**SGD avec momentum :**\n",
    "- ✅ Fonctionne bien et converge correctement\n",
    "- ⚠️ Prend plus de temps à se stabiliser\n",
    "- 📉 La descente peut être un peu \"nerveuse\"\n",
    "\n",
    "**Adam :**\n",
    "- ✅ Convergence plus fluide, surtout au début\n",
    "- ✅ Atteint une meilleure loss plus rapidement\n",
    "- ✅ Plus stable pendant toute la descente\n",
    "\n",
    "### Conclusion :\n",
    "Dans cette expérience, les deux optimiseurs arrivent à des résultats finaux proches, mais **Adam** se montre plus efficace :\n",
    "- Il converge plus vite\n",
    "- Il est plus stable\n",
    "- Il nécessite moins de tuning des hyperparamètres\n",
    "\n",
    "C'est pourquoi Adam est souvent le choix par défaut en Deep Learning ! 🎯"
   ]
  },
  {
   "cell_type": "code",
   "execution_count": null,
   "metadata": {},
   "outputs": [],
   "source": [
    "print(\"🎓 Analyse détaillée :\")\n",
    "print(\"-\" * 50)\n",
    "print(\"SGD :\")\n",
    "print(\"  • Marche bien mais met du temps à stabiliser\")\n",
    "print(\"  • Le momentum aide mais reste moins fluide qu'Adam\")\n",
    "print()\n",
    "print(\"Adam :\")\n",
    "print(\"  • Plus fluide dès le début de l'entraînement\")\n",
    "print(\"  • Atteint une meilleure loss plus rapidement\")\n",
    "print(\"  • Reste plus stable sur toute la descente\")\n",
    "print()\n",
    "print(\"💡 Conclusion : Les deux finissent proches, mais Adam\")\n",
    "print(\"   converge plus vite et de façon plus stable !\")"
   ]
  }
 ],
 "metadata": {
  "kernelspec": {
   "display_name": "Python 3",
   "language": "python",
   "name": "python3"
  },
  "language_info": {
   "codemirror_mode": {
    "name": "ipython",
    "version": 3
   },
   "file_extension": ".py",
   "mimetype": "text/x-python",
   "name": "python",
   "nbconvert_exporter": "python",
   "pygments_lexer": "ipython3",
   "version": "3.8.0"
  }
 },
 "nbformat": 4,
 "nbformat_minor": 4
}